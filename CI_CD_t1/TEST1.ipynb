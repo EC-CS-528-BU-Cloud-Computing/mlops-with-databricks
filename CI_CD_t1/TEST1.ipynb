{
  "nbformat": 4,
  "nbformat_minor": 0,
  "metadata": {
    "colab": {
      "provenance": []
    },
    "kernelspec": {
      "name": "python3",
      "display_name": "Python 3"
    },
    "language_info": {
      "name": "python"
    }
  },
  "cells": [
    {
      "cell_type": "code",
      "execution_count": 5,
      "metadata": {
        "id": "d0lrzsTvU-Cl"
      },
      "outputs": [],
      "source": [
        "from test_sorts import bubbleSort\n"
      ]
    },
    {
      "cell_type": "code",
      "source": [
        "arr = [3, 4, 45, 6, 67, -8, 9]"
      ],
      "metadata": {
        "id": "hzLXXUFyb5iu"
      },
      "execution_count": 7,
      "outputs": []
    },
    {
      "cell_type": "code",
      "source": [
        "bubbleSort(arr)\n",
        "print(arr)"
      ],
      "metadata": {
        "colab": {
          "base_uri": "https://localhost:8080/"
        },
        "id": "Ffns62OuH6L5",
        "outputId": "c88e2c65-913e-4d27-c189-d1ddd7a41dd7"
      },
      "execution_count": 9,
      "outputs": [
        {
          "output_type": "stream",
          "name": "stdout",
          "text": [
            "[-8, 3, 4, 6, 9, 45, 67]\n"
          ]
        }
      ]
    }
  ]
}